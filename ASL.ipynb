{
 "cells": [
  {
   "cell_type": "code",
   "execution_count": 1,
   "id": "05943e48",
   "metadata": {},
   "outputs": [],
   "source": [
    "#Import Libraries\n",
    "from torchvision import models, transforms, datasets\n",
    "import torch\n",
    "from torch import nn\n",
    "import matplotlib.pyplot as plt"
   ]
  },
  {
   "cell_type": "code",
   "execution_count": 2,
   "id": "1eb7fb91",
   "metadata": {},
   "outputs": [],
   "source": [
    "#!pip install torchvision\n",
    "#!pip install torch"
   ]
  },
  {
   "cell_type": "code",
   "execution_count": 3,
   "id": "35a696ea",
   "metadata": {},
   "outputs": [],
   "source": [
    "train_data_path  = r'.\\archive\\asl_alphabet_train\\asl_alphabet_train'"
   ]
  },
  {
   "cell_type": "code",
   "execution_count": 4,
   "id": "d4c8472e",
   "metadata": {},
   "outputs": [],
   "source": [
    "#Defining Transformations on the dataset. \n",
    "#Resizing the images 224(Input shape) and converting the pixel array to tensors and normalizing them\n",
    "#Values refered from ImageNET\n",
    "#We are normalizing the 3 channels seperately\n",
    "train_transforms = transforms.Compose([\n",
    "    transforms.Resize(224),\n",
    "    transforms.ToTensor(),\n",
    "    transforms.Normalize(mean=[0.485, 0.456, 0.406],\n",
    "                         std=[0.229, 0.224, 0.225])\n",
    "])\n",
    "\n",
    "test_transforms = transforms.Compose([\n",
    "    transforms.Resize(224),\n",
    "    transforms.ToTensor(),\n",
    "    transforms.Normalize(mean=[0.485, 0.456, 0.406],\n",
    "                         std=[0.229, 0.224, 0.225])\n",
    "])"
   ]
  },
  {
   "cell_type": "code",
   "execution_count": 5,
   "id": "706e14bd",
   "metadata": {},
   "outputs": [],
   "source": [
    "#Loading the dataset using ImageFolder\n",
    "\n",
    "train_dataset = datasets.ImageFolder(train_data_path, transform=train_transforms)\n",
    "val_dataset = datasets.ImageFolder(train_data_path, transform=test_transforms)"
   ]
  },
  {
   "cell_type": "code",
   "execution_count": 6,
   "id": "711606c8",
   "metadata": {},
   "outputs": [
    {
     "data": {
      "text/plain": [
       "(16000, 4000)"
      ]
     },
     "execution_count": 6,
     "metadata": {},
     "output_type": "execute_result"
    }
   ],
   "source": [
    "#Splitting the data for training and validation\n",
    "torch.manual_seed(1)\n",
    "# num_train_samples = len(train_dataset)\n",
    "num_train_samples = 20000\n",
    "\n",
    "val_split = 0.2\n",
    "split = int(num_train_samples * val_split)\n",
    "indices = torch.randperm(num_train_samples)\n",
    "\n",
    "\n",
    "train_subset = torch.utils.data.Subset(train_dataset, indices[split:])\n",
    "val_subset = torch.utils.data.Subset(val_dataset, indices[:split])\n",
    "\n",
    "len(train_subset), len(val_subset)"
   ]
  },
  {
   "cell_type": "code",
   "execution_count": 7,
   "id": "5e906bfa",
   "metadata": {},
   "outputs": [],
   "source": [
    "batch_size = 32\n",
    "\n",
    "train_dataloader = torch.utils.data.DataLoader(\n",
    "    dataset=train_subset, \n",
    "    batch_size=batch_size,\n",
    "    shuffle=True\n",
    ")\n",
    "\n",
    "val_dataloader = torch.utils.data.DataLoader(\n",
    "    dataset=val_subset,\n",
    "    batch_size=batch_size,\n",
    "    shuffle=False\n",
    ")"
   ]
  },
  {
   "cell_type": "code",
   "execution_count": 8,
   "id": "ed07ae78",
   "metadata": {},
   "outputs": [
    {
     "data": {
      "text/plain": [
       "['A',\n",
       " 'B',\n",
       " 'C',\n",
       " 'D',\n",
       " 'E',\n",
       " 'F',\n",
       " 'G',\n",
       " 'H',\n",
       " 'I',\n",
       " 'J',\n",
       " 'K',\n",
       " 'L',\n",
       " 'M',\n",
       " 'N',\n",
       " 'O',\n",
       " 'P',\n",
       " 'Q',\n",
       " 'R',\n",
       " 'S',\n",
       " 'T',\n",
       " 'U',\n",
       " 'V',\n",
       " 'W',\n",
       " 'X',\n",
       " 'Y',\n",
       " 'Z',\n",
       " 'del',\n",
       " 'nothing',\n",
       " 'space']"
      ]
     },
     "execution_count": 8,
     "metadata": {},
     "output_type": "execute_result"
    }
   ],
   "source": [
    "classes = train_dataloader.dataset.dataset.classes\n",
    "classes"
   ]
  },
  {
   "cell_type": "code",
   "execution_count": 9,
   "id": "922fb10f",
   "metadata": {},
   "outputs": [
    {
     "name": "stderr",
     "output_type": "stream",
     "text": [
      "C:\\Users\\lakram9u\\Anaconda3\\lib\\site-packages\\torchvision\\models\\_utils.py:208: UserWarning: The parameter 'pretrained' is deprecated since 0.13 and may be removed in the future, please use 'weights' instead.\n",
      "  warnings.warn(\n",
      "C:\\Users\\lakram9u\\Anaconda3\\lib\\site-packages\\torchvision\\models\\_utils.py:223: UserWarning: Arguments other than a weight enum or `None` for 'weights' are deprecated since 0.13 and may be removed in the future. The current behavior is equivalent to passing `weights=ResNet50_Weights.IMAGENET1K_V1`. You can also use `weights=ResNet50_Weights.DEFAULT` to get the most up-to-date weights.\n",
      "  warnings.warn(msg)\n",
      "Downloading: \"https://download.pytorch.org/models/resnet50-0676ba61.pth\" to C:\\Users\\lakram9u/.cache\\torch\\hub\\checkpoints\\resnet50-0676ba61.pth\n",
      "100%|█████████████████████████████████████████████████████████████████████████████| 97.8M/97.8M [00:38<00:00, 2.67MB/s]\n"
     ]
    }
   ],
   "source": [
    "resnet = models.resnet50(pretrained=True)"
   ]
  },
  {
   "cell_type": "code",
   "execution_count": 10,
   "id": "0ac9dedb",
   "metadata": {},
   "outputs": [],
   "source": [
    "#Freezing the model weights. only the dense layer that is built on top of resnet will be put for training\n",
    "for param in resnet.parameters():\n",
    "    param.requires_grad = False"
   ]
  },
  {
   "cell_type": "code",
   "execution_count": 12,
   "id": "fc04f664",
   "metadata": {},
   "outputs": [],
   "source": [
    "#Top layer\n",
    "in_features = resnet.fc.in_features\n",
    "fc = nn.Linear(in_features=in_features, out_features=len(classes)) #len(classes) = 29\n",
    "resnet.fc = fc"
   ]
  },
  {
   "cell_type": "code",
   "execution_count": 14,
   "id": "460d9fc1",
   "metadata": {},
   "outputs": [
    {
     "data": {
      "text/plain": [
       "'cpu'"
      ]
     },
     "execution_count": 14,
     "metadata": {},
     "output_type": "execute_result"
    }
   ],
   "source": [
    "device = 'cuda' if torch.cuda.is_available() else 'cpu'\n",
    "device"
   ]
  },
  {
   "cell_type": "code",
   "execution_count": 15,
   "id": "8ea7a8f0",
   "metadata": {},
   "outputs": [],
   "source": [
    "#Training loop\n",
    "from time import time\n",
    "from tqdm import tqdm\n",
    "\n",
    "\n",
    "def train(model,criterion,optimizer,train_dataloader,test_dataloader,print_every,num_epoch):\n",
    "    steps = 0\n",
    "    train_losses, val_losses = [], []\n",
    "\n",
    "    model.to(device)\n",
    "    for epoch in tqdm(range(num_epoch)):\n",
    "        running_loss = 0\n",
    "        correct_train = 0\n",
    "        total_train = 0\n",
    "        start_time = time()\n",
    "        iter_time = time()\n",
    "        \n",
    "        model.train()\n",
    "        for i, (images, labels) in enumerate(train_dataloader):\n",
    "            steps += 1\n",
    "            images = images.to(device)\n",
    "            labels = labels.to(device)\n",
    "\n",
    "            # Forward pass\n",
    "            output = model(images)\n",
    "            loss = criterion(output, labels)\n",
    "\n",
    "            correct_train += (torch.max(output, dim=1)[1] == labels).sum()\n",
    "            total_train += labels.size(0)\n",
    "\n",
    "            # Backward and optimize\n",
    "            optimizer.zero_grad()\n",
    "            loss.backward()\n",
    "            optimizer.step()\n",
    "\n",
    "            running_loss += loss.item()\n",
    "\n",
    "            # Logging\n",
    "            if steps % print_every == 0:\n",
    "                print(f'Epoch [{epoch + 1}]/[{num_epoch}]. Batch [{i + 1}]/[{len(train_dataloader)}].', end=' ')\n",
    "                print(f'Train loss {running_loss / steps:.3f}.', end=' ')\n",
    "                print(f'Train acc {correct_train / total_train * 100:.3f}.', end=' ')\n",
    "                with torch.no_grad():\n",
    "                    model.eval()\n",
    "                    correct_val, total_val = 0, 0\n",
    "                    val_loss = 0\n",
    "                    for images, labels in test_dataloader:\n",
    "                        images = images.to(device)\n",
    "                        labels = labels.to(device)\n",
    "                        output = model(images)\n",
    "                        loss = criterion(output, labels)\n",
    "                        val_loss += loss.item()\n",
    "\n",
    "                        correct_val += (torch.max(output, dim=1)[1] == labels).sum()\n",
    "                        total_val += labels.size(0)\n",
    "\n",
    "                print(f'Val loss {val_loss / len(test_dataloader):.3f}. Val acc {correct_val / total_val * 100:.3f}.', end=' ')\n",
    "                print(f'Took {time() - iter_time:.3f} seconds')\n",
    "                iter_time = time()\n",
    "\n",
    "                train_losses.append(running_loss / total_train)\n",
    "                val_losses.append(val_loss / total_val)\n",
    "\n",
    "\n",
    "        print(f'Epoch took {time() - start_time}') \n",
    "        torch.save(model, f'checkpoint_{correct_val / total_val * 100:.2f}')\n",
    "        \n",
    "    return model, train_losses, val_losses"
   ]
  },
  {
   "cell_type": "code",
   "execution_count": null,
   "id": "5fee2f90",
   "metadata": {},
   "outputs": [
    {
     "name": "stderr",
     "output_type": "stream",
     "text": [
      "  0%|                                                                                            | 0/1 [00:00<?, ?it/s]"
     ]
    },
    {
     "name": "stdout",
     "output_type": "stream",
     "text": [
      "Epoch [1]/[1]. Batch [50]/[500]. Train loss 1.450. Train acc 51.312. Val loss 0.956. Val acc 76.850. Took 988.596 seconds\n",
      "Epoch [1]/[1]. Batch [100]/[500]. Train loss 1.069. Train acc 69.594. Val loss 0.540. Val acc 91.425. Took 889.153 seconds\n",
      "Epoch [1]/[1]. Batch [150]/[500]. Train loss 0.857. Train acc 77.812. Val loss 0.393. Val acc 93.600. Took 843.598 seconds\n",
      "Epoch [1]/[1]. Batch [200]/[500]. Train loss 0.726. Train acc 82.031. Val loss 0.326. Val acc 94.025. Took 832.060 seconds\n",
      "Epoch [1]/[1]. Batch [250]/[500]. Train loss 0.638. Train acc 84.750. Val loss 0.274. Val acc 95.725. Took 824.553 seconds\n",
      "Epoch [1]/[1]. Batch [300]/[500]. Train loss 0.573. Train acc 86.552. Val loss 0.225. Val acc 96.375. Took 816.246 seconds\n",
      "Epoch [1]/[1]. Batch [350]/[500]. Train loss 0.522. Train acc 87.946. Val loss 0.205. Val acc 96.250. Took 830.403 seconds\n",
      "Epoch [1]/[1]. Batch [400]/[500]. Train loss 0.479. Train acc 89.039. Val loss 0.193. Val acc 96.375. Took 808.543 seconds\n",
      "Epoch [1]/[1]. Batch [450]/[500]. Train loss 0.445. Train acc 89.882. Val loss 0.170. Val acc 96.700. Took 817.798 seconds\n",
      "Epoch [1]/[1]. Batch [500]/[500]. Train loss 0.416. Train acc 90.575. "
     ]
    }
   ],
   "source": [
    "print_every = 50\n",
    "num_epoch = 1\n",
    "\n",
    "params_to_update = []\n",
    "for name, param in resnet.named_parameters():\n",
    "    if param.requires_grad == True:\n",
    "        params_to_update.append(param)\n",
    "\n",
    "        \n",
    "criterion = nn.CrossEntropyLoss()\n",
    "optimizer = torch.optim.Adam(params_to_update, lr=0.001)\n",
    "\n",
    "resnet, train_losses, val_losses = train(\n",
    "    model=resnet,\n",
    "    criterion=criterion,\n",
    "    optimizer=optimizer,\n",
    "    train_dataloader=train_dataloader,\n",
    "    test_dataloader=val_dataloader,\n",
    "    print_every=print_every,\n",
    "    num_epoch=num_epoch\n",
    ")"
   ]
  },
  {
   "cell_type": "code",
   "execution_count": null,
   "id": "d72c0c11",
   "metadata": {},
   "outputs": [],
   "source": [
    "#Visualization\n",
    "plt.plot(train_losses, label='Training loss')\n",
    "plt.plot(val_losses, label='Validation loss')\n",
    "plt.legend(frameon=False)\n",
    "plt.show()"
   ]
  },
  {
   "cell_type": "code",
   "execution_count": null,
   "id": "12ca6527",
   "metadata": {},
   "outputs": [],
   "source": [
    "from pathlib import Path\n",
    "from PIL import Image\n",
    "\n",
    "#Model Evaluation\n",
    "\n",
    "test_data_path = Path(r'C:\\Users\\lakram9u\\Downloads\\archive\\asl_alphabet_test\\asl_alphabet_test')\n",
    "\n",
    "\n",
    "class ASLTestDataset(torch.utils.data.Dataset):\n",
    "    def __init__(self, root_path, transforms=None):\n",
    "        super().__init__()\n",
    "        \n",
    "        self.transforms = transforms\n",
    "        self.imgs = sorted(list(Path(root_path).glob('*.jpg')))\n",
    "        \n",
    "    def __len__(self):\n",
    "        return len(self.imgs)\n",
    "    \n",
    "    def __getitem__(self, idx):\n",
    "        img_path = self.imgs[idx]\n",
    "        img = Image.open(img_path).convert('RGB')\n",
    "        \n",
    "        label = img_path.parts[-1].split('_')[0]\n",
    "        if self.transforms:\n",
    "            img = self.transforms(img)\n",
    "        \n",
    "        return img, label"
   ]
  },
  {
   "cell_type": "code",
   "execution_count": null,
   "id": "2388ecb6",
   "metadata": {},
   "outputs": [],
   "source": [
    "test_dataset = ASLTestDataset(test_data_path, transforms=test_transforms)\n",
    "\n",
    "columns = 7\n",
    "row = round(len(test_dataset) / columns)\n",
    "\n",
    "fig, ax = plt.subplots(row, columns, figsize=(columns * row, row * columns))\n",
    "plt.subplots_adjust(wspace=0.1, hspace=0.2)\n",
    "\n",
    "i, j = 0, 0\n",
    "for img, label in test_dataset:\n",
    "    img = torch.Tensor(img)\n",
    "    img = img.to(device)\n",
    "    resnet.eval()\n",
    "    prediction = resnet(img[None]) #predicting \n",
    "\n",
    "    #plotting\n",
    "    ax[i][j].imshow(img.cpu().permute(1, 2, 0))\n",
    "    ax[i][j].set_title(f'GT {label}. Pred {classes[torch.max(prediction, dim=1)[1]]}')\n",
    "    ax[i][j].axis('off')\n",
    "    j += 1\n",
    "    if j == columns:\n",
    "        j = 0\n",
    "        i += 1\n",
    "        \n",
    "plt.show()"
   ]
  }
 ],
 "metadata": {
  "kernelspec": {
   "display_name": "Python 3 (ipykernel)",
   "language": "python",
   "name": "python3"
  },
  "language_info": {
   "codemirror_mode": {
    "name": "ipython",
    "version": 3
   },
   "file_extension": ".py",
   "mimetype": "text/x-python",
   "name": "python",
   "nbconvert_exporter": "python",
   "pygments_lexer": "ipython3",
   "version": "3.9.13"
  }
 },
 "nbformat": 4,
 "nbformat_minor": 5
}
